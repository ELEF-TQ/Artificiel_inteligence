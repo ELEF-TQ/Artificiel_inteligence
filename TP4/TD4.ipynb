{
 "cells": [
  {
   "cell_type": "markdown",
   "id": "772b2951",
   "metadata": {},
   "source": [
    "# Algorithmes de recherche non informée\n"
   ]
  },
  {
   "cell_type": "markdown",
   "id": "1689727d",
   "metadata": {},
   "source": [
    "Les algorithmes que nous allons implementer dans ce TD serons utilisés pour resoudre les problèmes formalisés dans le TD3 précedent. Donc nous devons d'abord charger le notebook TD3-solution.ipynb précédent:  "
   ]
  },
  {
   "cell_type": "code",
   "execution_count": 11,
   "id": "824783e6",
   "metadata": {},
   "outputs": [
    {
     "ename": "Exception",
     "evalue": "File `\"'TD3-solution.ipynb'\"` not found.",
     "output_type": "error",
     "traceback": [
      "\u001b[1;31m---------------------------------------------------------------------------\u001b[0m",
      "\u001b[1;31mOSError\u001b[0m                                   Traceback (most recent call last)",
      "File \u001b[1;32m~\\AppData\\Local\\Programs\\Python\\Python312\\Lib\\site-packages\\IPython\\core\\magics\\execution.py:716\u001b[0m, in \u001b[0;36mExecutionMagics.run\u001b[1;34m(self, parameter_s, runner, file_finder)\u001b[0m\n\u001b[0;32m    715\u001b[0m     fpath \u001b[38;5;241m=\u001b[39m arg_lst[\u001b[38;5;241m0\u001b[39m]\n\u001b[1;32m--> 716\u001b[0m     filename \u001b[38;5;241m=\u001b[39m \u001b[43mfile_finder\u001b[49m\u001b[43m(\u001b[49m\u001b[43mfpath\u001b[49m\u001b[43m)\u001b[49m\n\u001b[0;32m    717\u001b[0m \u001b[38;5;28;01mexcept\u001b[39;00m \u001b[38;5;167;01mIndexError\u001b[39;00m \u001b[38;5;28;01mas\u001b[39;00m e:\n",
      "File \u001b[1;32m~\\AppData\\Local\\Programs\\Python\\Python312\\Lib\\site-packages\\IPython\\utils\\path.py:91\u001b[0m, in \u001b[0;36mget_py_filename\u001b[1;34m(name)\u001b[0m\n\u001b[0;32m     90\u001b[0m         \u001b[38;5;28;01mreturn\u001b[39;00m py_name\n\u001b[1;32m---> 91\u001b[0m \u001b[38;5;28;01mraise\u001b[39;00m \u001b[38;5;167;01mIOError\u001b[39;00m(\u001b[38;5;124m\"\u001b[39m\u001b[38;5;124mFile `\u001b[39m\u001b[38;5;132;01m%r\u001b[39;00m\u001b[38;5;124m` not found.\u001b[39m\u001b[38;5;124m\"\u001b[39m \u001b[38;5;241m%\u001b[39m name)\n",
      "\u001b[1;31mOSError\u001b[0m: File `\"'TD3-solution.ipynb'\"` not found.",
      "\nThe above exception was the direct cause of the following exception:\n",
      "\u001b[1;31mException\u001b[0m                                 Traceback (most recent call last)",
      "Cell \u001b[1;32mIn[11], line 1\u001b[0m\n\u001b[1;32m----> 1\u001b[0m \u001b[43mget_ipython\u001b[49m\u001b[43m(\u001b[49m\u001b[43m)\u001b[49m\u001b[38;5;241;43m.\u001b[39;49m\u001b[43mrun_line_magic\u001b[49m\u001b[43m(\u001b[49m\u001b[38;5;124;43m'\u001b[39;49m\u001b[38;5;124;43mrun\u001b[39;49m\u001b[38;5;124;43m'\u001b[39;49m\u001b[43m,\u001b[49m\u001b[43m \u001b[49m\u001b[38;5;124;43m\"\u001b[39;49m\u001b[38;5;124;43m  \u001b[39;49m\u001b[38;5;124;43m'\u001b[39;49m\u001b[38;5;124;43mTD3-solution.ipynb\u001b[39;49m\u001b[38;5;124;43m'\u001b[39;49m\u001b[38;5;124;43m\"\u001b[39;49m\u001b[43m)\u001b[49m\n",
      "File \u001b[1;32m~\\AppData\\Local\\Programs\\Python\\Python312\\Lib\\site-packages\\IPython\\core\\interactiveshell.py:2480\u001b[0m, in \u001b[0;36mInteractiveShell.run_line_magic\u001b[1;34m(self, magic_name, line, _stack_depth)\u001b[0m\n\u001b[0;32m   2478\u001b[0m     kwargs[\u001b[38;5;124m'\u001b[39m\u001b[38;5;124mlocal_ns\u001b[39m\u001b[38;5;124m'\u001b[39m] \u001b[38;5;241m=\u001b[39m \u001b[38;5;28mself\u001b[39m\u001b[38;5;241m.\u001b[39mget_local_scope(stack_depth)\n\u001b[0;32m   2479\u001b[0m \u001b[38;5;28;01mwith\u001b[39;00m \u001b[38;5;28mself\u001b[39m\u001b[38;5;241m.\u001b[39mbuiltin_trap:\n\u001b[1;32m-> 2480\u001b[0m     result \u001b[38;5;241m=\u001b[39m \u001b[43mfn\u001b[49m\u001b[43m(\u001b[49m\u001b[38;5;241;43m*\u001b[39;49m\u001b[43margs\u001b[49m\u001b[43m,\u001b[49m\u001b[43m \u001b[49m\u001b[38;5;241;43m*\u001b[39;49m\u001b[38;5;241;43m*\u001b[39;49m\u001b[43mkwargs\u001b[49m\u001b[43m)\u001b[49m\n\u001b[0;32m   2482\u001b[0m \u001b[38;5;66;03m# The code below prevents the output from being displayed\u001b[39;00m\n\u001b[0;32m   2483\u001b[0m \u001b[38;5;66;03m# when using magics with decorator @output_can_be_silenced\u001b[39;00m\n\u001b[0;32m   2484\u001b[0m \u001b[38;5;66;03m# when the last Python token in the expression is a ';'.\u001b[39;00m\n\u001b[0;32m   2485\u001b[0m \u001b[38;5;28;01mif\u001b[39;00m \u001b[38;5;28mgetattr\u001b[39m(fn, magic\u001b[38;5;241m.\u001b[39mMAGIC_OUTPUT_CAN_BE_SILENCED, \u001b[38;5;28;01mFalse\u001b[39;00m):\n",
      "File \u001b[1;32m~\\AppData\\Local\\Programs\\Python\\Python312\\Lib\\site-packages\\IPython\\core\\magics\\execution.py:727\u001b[0m, in \u001b[0;36mExecutionMagics.run\u001b[1;34m(self, parameter_s, runner, file_finder)\u001b[0m\n\u001b[0;32m    725\u001b[0m     \u001b[38;5;28;01mif\u001b[39;00m os\u001b[38;5;241m.\u001b[39mname \u001b[38;5;241m==\u001b[39m \u001b[38;5;124m'\u001b[39m\u001b[38;5;124mnt\u001b[39m\u001b[38;5;124m'\u001b[39m \u001b[38;5;129;01mand\u001b[39;00m re\u001b[38;5;241m.\u001b[39mmatch(\u001b[38;5;124mr\u001b[39m\u001b[38;5;124m\"\u001b[39m\u001b[38;5;124m^\u001b[39m\u001b[38;5;124m'\u001b[39m\u001b[38;5;124m.*\u001b[39m\u001b[38;5;124m'\u001b[39m\u001b[38;5;124m$\u001b[39m\u001b[38;5;124m\"\u001b[39m,fpath):\n\u001b[0;32m    726\u001b[0m         warn(\u001b[38;5;124m'\u001b[39m\u001b[38;5;124mFor Windows, use double quotes to wrap a filename: \u001b[39m\u001b[38;5;132;01m%r\u001b[39;00m\u001b[38;5;124mun \u001b[39m\u001b[38;5;124m\"\u001b[39m\u001b[38;5;124mmypath\u001b[39m\u001b[38;5;130;01m\\\\\u001b[39;00m\u001b[38;5;124mmyfile.py\u001b[39m\u001b[38;5;124m\"\u001b[39m\u001b[38;5;124m'\u001b[39m)\n\u001b[1;32m--> 727\u001b[0m     \u001b[38;5;28;01mraise\u001b[39;00m \u001b[38;5;167;01mException\u001b[39;00m(msg) \u001b[38;5;28;01mfrom\u001b[39;00m \u001b[38;5;21;01me\u001b[39;00m\n\u001b[0;32m    728\u001b[0m \u001b[38;5;28;01mexcept\u001b[39;00m \u001b[38;5;167;01mTypeError\u001b[39;00m:\n\u001b[0;32m    729\u001b[0m     \u001b[38;5;28;01mif\u001b[39;00m fpath \u001b[38;5;129;01min\u001b[39;00m sys\u001b[38;5;241m.\u001b[39mmeta_path:\n",
      "\u001b[1;31mException\u001b[0m: File `\"'TD3-solution.ipynb'\"` not found."
     ]
    }
   ],
   "source": [
    "%%capture\n",
    "%run   'TD3-solution.ipynb'\n",
    " "
   ]
  },
  {
   "cell_type": "markdown",
   "id": "467b0ad4",
   "metadata": {},
   "source": [
    "La fonction squelette d'un algorithme de recherche graphique est :\n",
    "\n",
    "```\n",
    "function  GRAPH-SEARCH( problem, frontier) returns a solution, or failure \n",
    "         initialize the frontier using the initial state of problem\n",
    "         initialize the explored set to empty  \n",
    "         loop do\n",
    "                if the frontier is empty then return failure\n",
    "                choose a leaf node and remove it from the frontier\n",
    "                if the node contains a goal state then \n",
    "                         return the corresponding solution \n",
    "                add the node  explored set\n",
    "                expand the chosen node, adding the resulting nodes to the frontier \n",
    "```"
   ]
  },
  {
   "cell_type": "markdown",
   "id": "683a73f5",
   "metadata": {},
   "source": [
    "La recherche graphique  est basée sur la notion de noeud dont l'implémentation est donnée dans la cellule suivante:"
   ]
  },
  {
   "cell_type": "code",
   "execution_count": 12,
   "id": "f21ef0e7",
   "metadata": {},
   "outputs": [],
   "source": [
    "\n",
    "        \n",
    "class Node:\n",
    "    \"\"\"A node in a search tree. Contains a pointer to the parent (the node\n",
    "    that this is a successor of) and to the actual state for this node. Note\n",
    "    that if a state is arrived at by two paths, then there are two nodes with\n",
    "    the same state. Also includes the action that got us to this state, and\n",
    "    the total path_cost (also known as g) to reach the node. Other functions\n",
    "    may add an f and h value; see best_first_graph_search and astar_search for\n",
    "    an explanation of how the f and h values are handled. You will not need to\n",
    "    subclass this class.\"\"\"\n",
    "\n",
    "    def __init__(self, state, parent=None, action=None, path_cost=0):\n",
    "        \"\"\"Create a search tree Node, derived from a parent by an action.\"\"\"\n",
    "        self.state = state\n",
    "        self.parent = parent\n",
    "        self.action = action\n",
    "        self.path_cost = path_cost\n",
    "        self.depth = 0\n",
    "        if parent:\n",
    "            self.depth = parent.depth + 1\n",
    "\n",
    "    def __repr__(self):\n",
    "        return \"<Node {}>\".format(self.state)\n",
    "\n",
    "    def __lt__(self, node):\n",
    "        return self.state < node.state\n",
    "\n",
    "    def expand(self, problem):\n",
    "        \"\"\"List the nodes reachable in one step from this node.\"\"\"\n",
    "        return [self.child_node(problem, action)\n",
    "                for action in problem.actions(self.state)]\n",
    "\n",
    "    def child_node(self, problem, action):\n",
    "        \"\"\"[Figure 3.10]\"\"\"\n",
    "        next_state = problem.get_successors(self.state, action)\n",
    "        next_node = Node(next_state, self, action, problem.path_cost(self.path_cost, self.state, action, next_state))\n",
    "        return next_node\n",
    "\n",
    "    def solution(self):\n",
    "        \"\"\"Return the sequence of actions to go from the root to this node.\"\"\"\n",
    "        return [node.action for node in self.path()[1:]]\n",
    "\n",
    "    def path(self):\n",
    "        \"\"\"Return a list of nodes forming the path from the root to this node.\"\"\"\n",
    "        node, path_back = self, []\n",
    "        while node:\n",
    "            path_back.append(node)\n",
    "            node = node.parent\n",
    "        return list(reversed(path_back))\n",
    "\n",
    "    # We want for a queue of nodes in breadth_first_graph_search or\n",
    "    # astar_search to have no duplicated states, so we treat nodes\n",
    "    # with the same state as equal. [Problem: this may not be what you\n",
    "    # want in other contexts.]\n",
    "\n",
    "    def __eq__(self, other):\n",
    "        return isinstance(other, Node) and self.state == other.state\n",
    "\n",
    "    def __hash__(self):\n",
    "        # We use the hash value of the state\n",
    "        # stored in the node instead of the node\n",
    "        # object itself to quickly search a node\n",
    "        # with the same state in a Hash Table\n",
    "        return hash(self.state)\n"
   ]
  },
  {
   "cell_type": "markdown",
   "id": "66d1c5a8",
   "metadata": {},
   "source": [
    "### 1. Algorithme de recherche en largeur d'abord (Beardth first search)"
   ]
  },
  {
   "cell_type": "code",
   "execution_count": 13,
   "id": "ec145355",
   "metadata": {},
   "outputs": [],
   "source": [
    "\n",
    "# In this algorithm we use FIFO Queue then we must import deque from pyhton collections modul\n",
    "from collections import deque\n",
    "\n",
    "def breadth_first_graph_search(problem):\n",
    "    \"\"\" \n",
    "    Note that this function can be implemented in a\n",
    "    single line as below:\n",
    "    return graph_search(problem, FIFOQueue())\n",
    "    where graph_search is the implementation of the algorithm above\n",
    "    \"\"\"\n",
    "    node = Node(problem.initial)\n",
    "    if problem.is_goal_state(node.state): \n",
    "        return node\n",
    "    frontier = deque([node])\n",
    "    explored = set()\n",
    "    while frontier:\n",
    "        node = frontier.popleft()  \n",
    "        explored.add(node.state)\n",
    "        #Òprint(len(explored))\n",
    "        for child in node.expand(problem):\n",
    "            if child.state not in explored and child not in frontier:\n",
    "                if problem.is_goal_state(child.state):\n",
    "                    return child\n",
    "                frontier.append(child)\n",
    "    return None\n",
    "\n",
    "\n",
    "\n"
   ]
  },
  {
   "cell_type": "code",
   "execution_count": 14,
   "id": "fc103648",
   "metadata": {},
   "outputs": [
    {
     "ename": "NameError",
     "evalue": "name 'vacuum_problem' is not defined",
     "output_type": "error",
     "traceback": [
      "\u001b[1;31m---------------------------------------------------------------------------\u001b[0m",
      "\u001b[1;31mNameError\u001b[0m                                 Traceback (most recent call last)",
      "Cell \u001b[1;32mIn[14], line 3\u001b[0m\n\u001b[0;32m      1\u001b[0m \u001b[38;5;66;03m# Tester la résoulution les problèmes du TD3 par cet algorithme\u001b[39;00m\n\u001b[0;32m      2\u001b[0m \u001b[38;5;66;03m# Votre code ici\u001b[39;00m\n\u001b[1;32m----> 3\u001b[0m n \u001b[38;5;241m=\u001b[39m breadth_first_graph_search(\u001b[43mvacuum_problem\u001b[49m)\n\u001b[0;32m      5\u001b[0m \u001b[38;5;28mprint\u001b[39m(n\u001b[38;5;241m.\u001b[39msolution())\n\u001b[0;32m      6\u001b[0m \u001b[38;5;28;01mfor\u001b[39;00m n \u001b[38;5;129;01min\u001b[39;00m n\u001b[38;5;241m.\u001b[39mpath():\n",
      "\u001b[1;31mNameError\u001b[0m: name 'vacuum_problem' is not defined"
     ]
    }
   ],
   "source": [
    "# Tester la résoulution les problèmes du TD3 par cet algorithme\n",
    "# Votre code ici\n",
    "n = breadth_first_graph_search(vacuum_problem)\n",
    "\n",
    "print(n.solution())\n",
    "for n in n.path():\n",
    "    print(n.state)\n",
    "    \n",
    " "
   ]
  },
  {
   "cell_type": "markdown",
   "id": "d7498136",
   "metadata": {},
   "source": [
    "### 2. Algorithme de recherche en profondeur d'abord (Depth first search)"
   ]
  },
  {
   "cell_type": "code",
   "execution_count": 15,
   "id": "f6f0007d",
   "metadata": {},
   "outputs": [],
   "source": [
    "from collections import deque\n",
    "\n",
    "def depth_first_graph_search(problem):\n",
    "    \"\"\" \n",
    "    Note that this function can be implemented in a\n",
    "    single line as below:\n",
    "    return graph_search(problem, FIFOQueue())\n",
    "    where graph_search is the implementation of the algorithm above\n",
    "    \"\"\"\n",
    "    node = Node(problem.initial)\n",
    "    frontier = Stack()\n",
    "    explored = set()\n",
    " \n",
    "    while frontier:\n",
    "        node = frontier.popleft()  \n",
    "        explored.add(node.state)\n",
    "        #Òprint(len(explored))\n",
    "        for child in node.expand(problem):\n",
    "            if child.state not in explored and child not in frontier:\n",
    "                if problem.is_goal_state(child.state):\n",
    "                    return child\n",
    "                frontier.append(child)\n",
    "    return None\n",
    "\n",
    "\n",
    "\n"
   ]
  },
  {
   "cell_type": "code",
   "execution_count": 16,
   "id": "28379856",
   "metadata": {},
   "outputs": [
    {
     "ename": "NameError",
     "evalue": "name 'vacuum_problem' is not defined",
     "output_type": "error",
     "traceback": [
      "\u001b[1;31m---------------------------------------------------------------------------\u001b[0m",
      "\u001b[1;31mNameError\u001b[0m                                 Traceback (most recent call last)",
      "Cell \u001b[1;32mIn[16], line 2\u001b[0m\n\u001b[0;32m      1\u001b[0m \u001b[38;5;66;03m# Tester la résoulution les problèmes du TD3 par cet algorithme\u001b[39;00m\n\u001b[1;32m----> 2\u001b[0m n \u001b[38;5;241m=\u001b[39m depth_first_graph_search(\u001b[43mvacuum_problem\u001b[49m)\n\u001b[0;32m      4\u001b[0m \u001b[38;5;28mprint\u001b[39m(n\u001b[38;5;241m.\u001b[39msolution())\n\u001b[0;32m      5\u001b[0m \u001b[38;5;28;01mfor\u001b[39;00m n \u001b[38;5;129;01min\u001b[39;00m n\u001b[38;5;241m.\u001b[39mpath():\n",
      "\u001b[1;31mNameError\u001b[0m: name 'vacuum_problem' is not defined"
     ]
    }
   ],
   "source": [
    "# Tester la résoulution les problèmes du TD3 par cet algorithme\n",
    "n = depth_first_graph_search(vacuum_problem)\n",
    "\n",
    "print(n.solution())\n",
    "for n in n.path():\n",
    "    print(n.state)\n",
    "\n"
   ]
  },
  {
   "cell_type": "markdown",
   "id": "76154756",
   "metadata": {},
   "source": [
    "### 3. Algorithme de recherche en profondeur limité (Limited Depth Search)"
   ]
  },
  {
   "cell_type": "code",
   "execution_count": null,
   "id": "c40d47a6",
   "metadata": {},
   "outputs": [],
   "source": [
    "# Votre code ici"
   ]
  },
  {
   "cell_type": "code",
   "execution_count": null,
   "id": "8a50206d",
   "metadata": {},
   "outputs": [],
   "source": [
    "# Tester la résoulution les problèmes du TD3 par cet algorithme\n",
    "# Votre code ici\n",
    "\n",
    "\n"
   ]
  },
  {
   "cell_type": "markdown",
   "id": "eff3c030",
   "metadata": {},
   "source": [
    "### 4. Algorithme de recherche d'approfondissement itérative (iterative deepening search)"
   ]
  },
  {
   "cell_type": "code",
   "execution_count": null,
   "id": "4a770554",
   "metadata": {},
   "outputs": [],
   "source": [
    "# Votre code ici"
   ]
  },
  {
   "cell_type": "code",
   "execution_count": null,
   "id": "974d8ee9",
   "metadata": {},
   "outputs": [],
   "source": [
    "# Tester la résoulution les problèmes du TD3 par cet algorithme\n",
    "# Votre code ici"
   ]
  }
 ],
 "metadata": {
  "kernelspec": {
   "display_name": "Python 3 (ipykernel)",
   "language": "python",
   "name": "python3"
  },
  "language_info": {
   "codemirror_mode": {
    "name": "ipython",
    "version": 3
   },
   "file_extension": ".py",
   "mimetype": "text/x-python",
   "name": "python",
   "nbconvert_exporter": "python",
   "pygments_lexer": "ipython3",
   "version": "3.12.0"
  }
 },
 "nbformat": 4,
 "nbformat_minor": 5
}
